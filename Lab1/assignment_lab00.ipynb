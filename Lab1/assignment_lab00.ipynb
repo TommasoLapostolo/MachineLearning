{
 "cells": [
  {
   "cell_type": "markdown",
   "metadata": {},
   "source": [
    "# Esercizio Introduttivo\n",
    "\n",
    "In questo esercizio introduttivo dovrai sviluppare un semplice metodo di regressione lineare con scipy. Puoi trovare tutte le informazioni su come fare la regression con scipy all'url: https://docs.scipy.org/doc/scipy/reference/generated/scipy.stats.linregress.html"
   ]
  },
  {
   "cell_type": "markdown",
   "metadata": {},
   "source": [
    "### Assignment\n",
    "\n",
    "1) Carica il file .csv fornito con i dati delle auto usate\n",
    "\n",
    "2) Utilizza una regressione lineare per stimare i prezzi delle auto in base all'anno, ai chilometri percorsi o alla potenza del motore. Puoi effettuare una semplice regressione 1D da ciascuno dei parametri in modo indipendente (facoltativo: puoi anche provare una regressione 2D o 3D combinando più parametri)\n",
    "\n",
    "3) Per prima cosa esegui la stima utilizzando la funzione linregress di scipy (o in alternativa puoi utilizzare la classe sklearn.linear_model.LinearRegression). NB: controlla la documentazione dei due metodi!! In particolare, fai attenzione al numero di output (in caso usa \"_\" per evitare un output specifico nel return della funzione).\n",
    "\n",
    "4) Dai un'occhiata al coefficiente di correlazione per vedere quale delle 3 caratteristiche funziona meglio\n",
    "\n",
    "5) (facoltativo) Implementa a mano l'algoritmo dei minimi quadrati: dovresti ottenere esattamente la stessa soluzione di linregress!\n",
    "\n",
    "6) Traccia i dati e le rette che rappresentano l'output degli algoritmi linregress e minimi quadrati"
   ]
  },
  {
   "cell_type": "code",
   "execution_count": null,
   "metadata": {},
   "outputs": [],
   "source": [
    "import matplotlib.pyplot as plt\n",
    "import csv\n",
    "from scipy import stats\n",
    "import numpy as np\n",
    "import sklearn as sl\n",
    "from sklearn import linear_model as lm"
   ]
  },
  {
   "cell_type": "code",
   "execution_count": null,
   "metadata": {},
   "outputs": [],
   "source": [
    "# Carica i file dati con le informazioni sulle auto usate (prova ad aprirlo con un text editor per vedere il contenuto!)\n",
    "\n",
    "filename = \"data/km_year_power_price.csv\"\n",
    "lines = csv.reader(open(filename, newline=''), delimiter=',')\n",
    "\n",
    "# metti qui il codice per caricare"
   ]
  },
  {
   "cell_type": "markdown",
   "metadata": {},
   "source": [
    "Usa la regressione lineare per stimare i prezzi delle auto in base all'anno, ai chilometri o alla potenza del motore. È possibile effettuare una semplice regressione 1D da ciascuno dei parametri in modo indipendente\n"
   ]
  },
  {
   "cell_type": "code",
   "execution_count": null,
   "metadata": {},
   "outputs": [],
   "source": [
    "# Regressione lineare con linregress (stima il prezzo dall'anno)\n",
    "\n",
    "# your code....."
   ]
  },
  {
   "cell_type": "code",
   "execution_count": null,
   "metadata": {},
   "outputs": [],
   "source": [
    "# (Opzionale) regressione lineare con linear_model.LinearRegression() (stima il prezzo dall'anno)\n",
    "# Ricorda che in Python una  matrice mx1 è diversa da un array 1D -> usa reshape\n",
    "\n",
    "# your code....."
   ]
  },
  {
   "cell_type": "code",
   "execution_count": null,
   "metadata": {
    "scrolled": true
   },
   "outputs": [],
   "source": [
    "# (Opzionale) implementa la regressione lineare coi minimi quadrati \"a mano\" senza usare le funzioni di Python\n",
    "# Dovresti ottenere lo stesso risultato di linregress !\n",
    "\n",
    "# your code....."
   ]
  },
  {
   "cell_type": "code",
   "execution_count": null,
   "metadata": {},
   "outputs": [],
   "source": [
    "# Plotta i dati e le linee che rappresentano l'output degli algoritmi linregress e dei minimi quadrati\n",
    "\n",
    "# your code...."
   ]
  },
  {
   "cell_type": "code",
   "execution_count": null,
   "metadata": {},
   "outputs": [],
   "source": [
    "# Regressione lineare con linregress (stima il prezzo dalla potenza)\n",
    "\n",
    "# your code....."
   ]
  },
  {
   "cell_type": "code",
   "execution_count": null,
   "metadata": {},
   "outputs": [],
   "source": [
    "# regressione lineare con linregress (stima il prezzo dai chilometri)\n",
    "\n",
    "# your code..."
   ]
  },
  {
   "cell_type": "code",
   "execution_count": null,
   "metadata": {},
   "outputs": [],
   "source": [
    "# Dai un'occhiata ai coefficienti di correlazione per vedere quale delle 3 caratteristiche funziona meglio\n",
    "\n",
    "# your code......"
   ]
  },
  {
   "cell_type": "code",
   "execution_count": null,
   "metadata": {},
   "outputs": [],
   "source": [
    "# (Opzionale) regressione lineare 2D con linear model (ad es. stima il prezzo da anno e potenza)\n",
    "\n",
    "\n",
    "# your code......\n"
   ]
  }
 ],
 "metadata": {
  "kernelspec": {
   "display_name": "Python 3 (ipykernel)",
   "language": "python",
   "name": "python3"
  },
  "language_info": {
   "codemirror_mode": {
    "name": "ipython",
    "version": 3
   },
   "file_extension": ".py",
   "mimetype": "text/x-python",
   "name": "python",
   "nbconvert_exporter": "python",
   "pygments_lexer": "ipython3",
   "version": "3.12.7"
  }
 },
 "nbformat": 4,
 "nbformat_minor": 4
}
