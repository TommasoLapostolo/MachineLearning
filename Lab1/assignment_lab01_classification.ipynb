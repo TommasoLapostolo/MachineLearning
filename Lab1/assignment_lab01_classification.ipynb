{
 "cells": [
  {
   "cell_type": "markdown",
   "metadata": {},
   "source": [
    "# Machine Learning LAB 1\n",
    "## Notebook 1: Classification with Linear Predictors\n",
    "Course 2024/25:  M. Pavan, M. Caligiuri, P. Zanuttigh"
   ]
  },
  {
   "cell_type": "markdown",
   "metadata": {},
   "source": [
    "##  Classification of Stayed/Churned Customers"
   ]
  },
  {
   "cell_type": "markdown",
   "metadata": {},
   "source": [
    "Place your **name** and **ID number** (matricola) in the cell below. <br>\n",
    "<br>"
   ]
  },
  {
   "cell_type": "markdown",
   "metadata": {},
   "source": [
    "**Student name**: Tommaso Tombolato<br>\n",
    "**ID Number**: 2104231"
   ]
  },
  {
   "cell_type": "markdown",
   "metadata": {},
   "source": [
    "### Dataset description\n",
    "\n",
    "The Customer Churn table contains information on all 3,757 customers from a Telecommunications company in California in Q2 2022. \n",
    "The dataset contains three features:\n",
    "- **Tenure in Months**: Number of months the customer has stayed with the company\n",
    "- **Monthly Charge**: The amount charged to the customer monthly\n",
    "- **Age**: Customer's age\n",
    "\n",
    "The aim of the task is to predict if a customer will churn or not based on the three features.\n",
    "\n",
    "<center>\n",
    "\n",
    "![COVER](data/dataset-cover.png \"COVER\")\n",
    "\n",
    "</center>"
   ]
  },
  {
   "cell_type": "markdown",
   "metadata": {},
   "source": [
    "We first **import** all **the packages** that are needed."
   ]
  },
  {
   "cell_type": "code",
   "execution_count": 1,
   "metadata": {},
   "outputs": [],
   "source": [
    "import pandas as pd\n",
    "from matplotlib import pyplot as plt\n",
    "import numpy as np\n",
    "from sklearn import linear_model, preprocessing"
   ]
  },
  {
   "cell_type": "markdown",
   "metadata": {},
   "source": [
    "Change some global settings for layout purposes."
   ]
  },
  {
   "cell_type": "code",
   "execution_count": 2,
   "metadata": {},
   "outputs": [],
   "source": [
    "# if you are in the jupyter notebook environment you can change the 'inline' option with 'notebook' to get interactive plots\n",
    "%matplotlib inline\n",
    "#%matplotlib notebook\n",
    "\n",
    "# change the limit on the line length and crop to 0 very small numbers, for clearer printing\n",
    "np.set_printoptions(linewidth=500, suppress=True)"
   ]
  },
  {
   "cell_type": "markdown",
   "metadata": {},
   "source": [
    "## A) Perceptron\n",
    "In the following cells we will **implement** the **perceptron** algorithm and use it to learn a halfspace."
   ]
  },
  {
   "cell_type": "markdown",
   "metadata": {},
   "source": [
    "**TO DO (A.0):** **Set** the random **seed** using your **ID**. If you need to change it for testing add a constant explicitly, eg.: 1234567 + 1"
   ]
  },
  {
   "cell_type": "code",
   "execution_count": 3,
   "metadata": {},
   "outputs": [],
   "source": [
    "IDnumber = 2104231 # YOUR_ID\n",
    "np.random.seed(IDnumber)"
   ]
  },
  {
   "cell_type": "markdown",
   "metadata": {},
   "source": [
    "Before proceding to the training steps, we **load the dataset and split it** in training and test set (the **training** set is **typically larger**, here we use a 75% training 25% test split).\n",
    "The **split** is **performed after applying a random permutation** to the dataset, such permutation will **depend on the seed** you set above. Try different seeds to evaluate the impact of randomization.<br><br>\n",
    "**DO NOT CHANGE THE PRE-WRITTEN CODE UNLESS OTHERWISE SPECIFIED**"
   ]
  },
  {
   "cell_type": "markdown",
   "metadata": {},
   "source": [
    "### The Dataset\n",
    "The dataset is a `.csv` file containing three input features and a label. Here is an example of the first 4 rows of the dataset: \n",
    "\n",
    "<center>\n",
    "\n",
    "Tenure in Months | Monthly Charge | Age | Customer Status |\n",
    "| -----------------| ---------------|-----|-----------------|\n",
    "| 9 | 65.6 | 37 | 0 |\n",
    "| 9 | -4.0 | 46 | 0 |\n",
    "| 4 | 73.9 | 50 | 1 |\n",
    "| ... | ... | ... | ... |\n",
    "\n",
    "</center>\n",
    "\n",
    "Customer Status is 0 if the customer has stayed with the company and 1 if the customer has churned."
   ]
  },
  {
   "cell_type": "code",
   "execution_count": 4,
   "metadata": {},
   "outputs": [],
   "source": [
    "def load_dataset(filename):\n",
    "    data_train = pd.read_csv(filename)\n",
    "    #permute the data\n",
    "    data_train = data_train.sample(frac=1).reset_index(drop=True) # shuffle the data\n",
    "    X = data_train.iloc[:, 0:3].values # Get first three columns as the input, lultimo non ciene contato con i :\n",
    "    Y = data_train.iloc[:, 3].values # Get the fourth column as the label\n",
    "    Y = 2*Y-1 # Make sure labels are -1 or 1 (0 --> -1, 1 --> 1)\n",
    "    return X,Y"
   ]
  },
  {
   "cell_type": "code",
   "execution_count": 5,
   "metadata": {},
   "outputs": [],
   "source": [
    "# Load the dataset\n",
    "X, Y = load_dataset('data/telecom_customer_churn_cleaned.csv')"
   ]
  },
  {
   "cell_type": "markdown",
   "metadata": {},
   "source": [
    "We are going to differentiate (classify) between **class \"1\" (churned)** and **class \"-1\" (stayed)**"
   ]
  },
  {
   "cell_type": "markdown",
   "metadata": {},
   "source": [
    "# Split data in training and test sets\n",
    "\n",
    "\n",
    "\n",
    "Given $m$ total data, denote with $m_{t}$ the part used for training. Keep $m_t$ data as training data, and $m_{test}:= m-m_{t}$. <br>\n",
    "For instance one can take $m_t=0.75m$ of the data as training and $m_{test}=0.25m$ as testing. <br>\n",
    "Let us define as define\n",
    "\n",
    "$\\bullet$ $S_{t}$ the training data set\n",
    "\n",
    "$\\bullet$ $S_{test}$ the testing data set\n",
    "\n",
    "\n",
    "The reason for this splitting is as follows:\n",
    "\n",
    "TRAINING DATA: The training data are used to compute the empirical loss\n",
    "$$\n",
    "L_S(h) = \\frac{1}{m_t} \\sum_{z_i \\in S_{t}} \\ell(h,z_i)\n",
    "$$\n",
    "which is used to estimate $h$ in a given model class ${\\cal H}$.\n",
    "i.e. \n",
    "$$\n",
    "\\hat{h} = {\\rm arg\\; min}_{h \\in {\\cal H}} \\, L_S(h)\n",
    "$$\n",
    "\n",
    "TESTING DATA: The test data set can be used to estimate the performance of the final estimated model\n",
    "$\\hat h_{\\hat d_j}$ using:\n",
    "$$\n",
    "L_{{\\cal D}}(\\hat h_{\\hat d_j}) \\simeq \\frac{1}{m_{test}} \\sum_{ z_i \\in S_{test}} \\ell(\\hat h_{\\hat d_j},z_i)\n",
    "$$"
   ]
  },
  {
   "cell_type": "markdown",
   "metadata": {},
   "source": [
    "**TO DO (A.1):** **Divide** the **data into training and test set** (**75%** of the data in the **first** set, **25%** in the **second** one). <br>\n",
    "<br>\n",
    "Notice that as is common practice in Statistics and Machine Learning, **we scale the data** (= each variable) so that it is centered **(zero mean)** and has **standard deviation equal to 1**. <br>\n",
    "This helps in terms of numerical conditioning of the (inverse) problems of estimating the model (the coefficients of the linear regression in this case), as well as to give the same scale to all the coefficients."
   ]
  },
  {
   "cell_type": "code",
   "execution_count": 6,
   "metadata": {},
   "outputs": [
    {
     "name": "stdout",
     "output_type": "stream",
     "text": [
      "Number of samples in the train set: 2817\n",
      "Number of samples in the test set: 940\n",
      "\n",
      "Number of night instances in test: 465\n",
      "Number of day instances in test: 475\n",
      "Mean of the training input data: [ 0. -0.  0.]\n",
      "Std of the training input data: [1. 1. 1.]\n",
      "Mean of the test input data: [-0.08059256 -0.06605428 -0.00529418]\n",
      "Std of the test input data: [0.98344849 1.00867042 1.01280706]\n"
     ]
    }
   ],
   "source": [
    "# compute the splits\n",
    "# attento stai lavorando con una matrice!! I lables sono 3 quindi devo contare i dati a gruppi di tre\n",
    "# X.shape[1] → numero di colonne | X.shape[0] → numero di righe\n",
    "m_training = int(3*X.shape[0]/4) # mi ricavo la lunghezza della prima colonna e la moltiplico per 3/4, ovviamente voglio arrotondare all'intero più vicino\n",
    "\n",
    "# m_test is the number of samples in the test set (total-training)\n",
    "m_test = X.shape[0] - m_training\n",
    "# X_training = instances for training set\n",
    "X_training =  X[0 : m_training, : ]\n",
    "# Y_training = labels for the training set\n",
    "Y_training =  Y[0 : m_training]\n",
    "\n",
    "# X_test = instances for test set\n",
    "X_test =   X[m_training : , : ]\n",
    "# Y_test = labels for the test set\n",
    "Y_test =  Y[m_training : ]\n",
    "\n",
    "print(\"Number of samples in the train set:\", X_training.shape[0])\n",
    "print(\"Number of samples in the test set:\", X_test.shape[0])\n",
    "print(\"\\nNumber of night instances in test:\", np.sum(Y_test==-1))\n",
    "print(\"Number of day instances in test:\", np.sum(Y_test==1))\n",
    "\n",
    "# standardize the input matrix\n",
    "# the transformation is computed on training data and then used on all the 3 sets\n",
    "scaler = preprocessing.StandardScaler().fit(X_training) # crea l'oggetto per la normalizzazione delle features\n",
    "\n",
    "np.set_printoptions(suppress=True) # sets to zero floating point numbers < min_float_eps\n",
    "X_training = scaler.transform(X_training) # normalizzo le features togliendo la media e dividendo per la varianza\n",
    "print (\"Mean of the training input data:\", X_training.mean(axis=0))\n",
    "print (\"Std of the training input data:\",X_training.std(axis=0))\n",
    "\n",
    "X_test = scaler.transform(X_test) # normalizzo le features togliendo la media e dividendo per la varianza\n",
    "print (\"Mean of the test input data:\", X_test.mean(axis=0))\n",
    "print (\"Std of the test input data:\", X_test.std(axis=0))"
   ]
  },
  {
   "cell_type": "markdown",
   "metadata": {},
   "source": [
    "We **add a 1 in front of each sample** so that we can use a vector in **homogeneous coordinates** to describe all the coefficients of the model. This can be done with the function $hstack$ in $numpy$."
   ]
  },
  {
   "cell_type": "code",
   "execution_count": 7,
   "metadata": {},
   "outputs": [],
   "source": [
    "def to_homogeneous(X_training, X_test):\n",
    "    # Add a 1 to each sample (homogeneous coordinates)\n",
    "    X_training = np.hstack( [np.ones( (X_training.shape[0], 1) ), X_training] )\n",
    "    X_test = np.hstack( [np.ones( (X_test.shape[0], 1) ), X_test] )\n",
    "    \n",
    "    return X_training, X_test"
   ]
  },
  {
   "cell_type": "code",
   "execution_count": 8,
   "metadata": {},
   "outputs": [
    {
     "name": "stdout",
     "output_type": "stream",
     "text": [
      "Training set in homogeneous coordinates:\n",
      "[[ 1.          0.75057867 -0.24556846 -0.73876368]\n",
      " [ 1.         -0.70552002 -1.58854427  0.67382569]\n",
      " [ 1.         -0.70552002  0.44180771 -0.6210479 ]\n",
      " [ 1.          0.54256457 -0.63190396  0.96811514]\n",
      " [ 1.         -0.24788901  1.21447872  1.32126248]\n",
      " [ 1.         -0.99673976  0.39330671  1.26240459]\n",
      " [ 1.          0.50096175 -0.66200803  0.02638889]\n",
      " [ 1.         -0.24788901 -1.46311066  0.6149678 ]\n",
      " [ 1.          1.54103224  1.29308378 -1.68048992]\n",
      " [ 1.          1.58263506 -1.6035963   1.08583092]]\n"
     ]
    }
   ],
   "source": [
    "# convert to homogeneous coordinates using the function above\n",
    "X_training, X_test = to_homogeneous(X_training, X_test)\n",
    "print(\"Training set in homogeneous coordinates:\")\n",
    "print(X_training[:10])"
   ]
  },
  {
   "cell_type": "markdown",
   "metadata": {},
   "source": [
    "**TO DO (A.2):** Now **complete** the function *perceptron*. <br>\n",
    "The **perceptron** algorithm **does not terminate** if the **data** is not **linearly separable**, therefore your implementation should **terminate** if it **reached the termination** condition seen in class **or** if a **maximum number of iterations** have already been run, where one **iteration** corresponds to **one update of the perceptron weights**. In case the **termination** is reached **because** the **maximum** number of **iterations** have been completed, the implementation should **return the best model** seen throughout .\n",
    "\n",
    "The input parameters to pass are:\n",
    "- $X$: the matrix of input features, one row for each sample\n",
    "- $Y$: the vector of labels for the input features matrix X\n",
    "- $max\\_num\\_iterations$: the maximum number of iterations for running the perceptron\n",
    "\n",
    "The output values are:\n",
    "- $best\\_w$: the vector with the coefficients of the best model (or the latest, if the termination condition is reached)\n",
    "- $best\\_error$: the *fraction* of misclassified samples for the best model"
   ]
  },
  {
   "cell_type": "code",
   "execution_count": 9,
   "metadata": {},
   "outputs": [],
   "source": [
    "def count_errors(current_w, X, Y):\n",
    "    # This function:\n",
    "    # returns the number of misclassified samples\n",
    "    # returns the index of a random misclassified sample (ensure that you randomly select it, do not just take the first)\n",
    "    # if there are no misclassified samples, returns -1 as index\n",
    "    index = -1 # inizializzo indice\n",
    "    mis = 0 # inizializzo errori\n",
    "\n",
    "    #print(\"\\n\", X, \"\\n\", current_w)\n",
    "\n",
    "    h = np.dot(X, current_w) # prodotto scalare matrice per vettore, è il nostro predittore\n",
    "\n",
    "    end = len(Y)\n",
    "    # print(end)\n",
    "\n",
    "    vettore_index = []\n",
    "\n",
    "    #print(X, \"\\n\", Y)\n",
    "    #print(\"\\n\", h, \"\\n\", Y)\n",
    "    #print(\"\\n\", Y[1]*h[1])\n",
    "\n",
    "    for i in range(0, end):\n",
    "        #if Y[i]*h[i] <=  :\n",
    "        if np.sign(Y[i]) != np.sign(h[i]):\n",
    "            vettore_index.append(i)\n",
    "            mis = mis + 1\n",
    "\n",
    "    if len(vettore_index) != 0:\n",
    "        index = np.random.choice(vettore_index)\n",
    "\n",
    "    return mis, index\n",
    "        \n",
    "def perceptron_update(current_w, x, y):\n",
    "    # Place in this function the update rule of the perceptron algorithm\n",
    "    # Remember that numpy arrays can be treated as generalized variables\n",
    "    # therefore given array a = [1,2,3,4], the operation b = 10*a will yield\n",
    "    # b = [10, 20, 30, 40]\n",
    "    new_w = current_w + x*y # np.dot(x,y) non ha senso\n",
    "    #print(np.dot(x,y))\n",
    "    return new_w\n",
    "\n",
    "def perceptron(X, Y, max_num_iterations):\n",
    "    \n",
    "    # Initialize some support variables\n",
    "    num_samples = X.shape[0]\n",
    "    # best_errors will keep track of the best (minimum) number of errors\n",
    "    # seen throughout training, used for the update of the best_w variable\n",
    "    best_error = num_samples+1\n",
    "    \n",
    "    # Initialize the weights of the algorith with w=0\n",
    "    curr_w = np.zeros(4)\n",
    "    # The best_w variable will be used to keep track of the best solution\n",
    "    best_w = curr_w.copy()\n",
    "\n",
    "    # compute the number of misclassified samples and the index of the first of them\n",
    "    num_misclassified, index_misclassified = count_errors(curr_w, X, Y)\n",
    "    \n",
    "    # update the 'best' variables\n",
    "    if num_misclassified < best_error:\n",
    "        best_error = num_misclassified\n",
    "        #best_w = perceptron_update(best_w, X[index_misclassified, : ], Y[index_misclassified])\n",
    "        best_w = curr_w\n",
    "\n",
    "    # aggiorno il perceptron\n",
    "    new_w = perceptron_update(best_w, X[index_misclassified, : ], Y[index_misclassified])\n",
    "    \n",
    "    # initialize the number of iterations\n",
    "    num_iter = 0\n",
    "    # Main loop continue until all samples correctly classified or max # iterations reached\n",
    "    # Remember that to signify that no errors were found we set index_misclassified = -1\n",
    "    while index_misclassified != -1 and num_iter < max_num_iterations:\n",
    "        # compute the number of misclassified samples and the index of the first of them\n",
    "        num_misclassified, index_misclassified = count_errors(new_w, X, Y)\n",
    "        \n",
    "        # update the 'best' variables\n",
    "        if num_misclassified < best_error:\n",
    "            best_error = num_misclassified\n",
    "            #best_w = perceptron_update(best_w, X[index_misclassified], Y[index_misclassified])\n",
    "            best_w = new_w\n",
    "\n",
    "        # aggiorno il perceptron\n",
    "        new_w = perceptron_update(new_w, X[index_misclassified, : ], Y[index_misclassified])\n",
    "\n",
    "        # incremento num_iter\n",
    "        num_iter = num_iter + 1; # !!!!Ricordati di incremtare il ciclo sennò non si esce mai dal while\n",
    "\n",
    "        # Choose the misclassified sample with the lowest index at each iteration\n",
    "\n",
    "    # as required, return the best error as a ratio with respect to the total number of samples\n",
    "    best_error = best_error/num_samples\n",
    "    \n",
    "    return best_w, best_error"
   ]
  },
  {
   "cell_type": "markdown",
   "metadata": {},
   "source": [
    "Now we use the implementation above of the perceptron to learn a model from the training data using 30 iterations and print the error of the best model we have found."
   ]
  },
  {
   "cell_type": "code",
   "execution_count": 10,
   "metadata": {},
   "outputs": [
    {
     "name": "stdout",
     "output_type": "stream",
     "text": [
      "Training Error of perceptron (30 iterations): 0.2552360667376642\n"
     ]
    }
   ],
   "source": [
    "# Now run the perceptron for 30 iterations\n",
    "w_found, error = perceptron(X_training,Y_training, 30)\n",
    "print(\"Training Error of perceptron (30 iterations): \" + str(error))"
   ]
  },
  {
   "cell_type": "markdown",
   "metadata": {},
   "source": [
    "**TO DO (A.3):** use the best model $w\\_found$ to **predict the labels for the test dataset** and print the fraction of misclassified samples in the test set (the test error that is an estimate of the true loss)."
   ]
  },
  {
   "cell_type": "code",
   "execution_count": 11,
   "metadata": {},
   "outputs": [
    {
     "name": "stdout",
     "output_type": "stream",
     "text": [
      "Test Error of perceptron (30 iterations): 0.2680851063829787\n"
     ]
    }
   ],
   "source": [
    "errors, _ = count_errors(w_found, X_test,Y_test)\n",
    "\n",
    "true_loss_estimate = errors/len(Y_test)     # Error rate on the test set\n",
    "# NOTE: you can avoid using num_errors if you prefer, as long as true_loss_estimate is correct\n",
    "print(\"Test Error of perceptron (30 iterations): \" + str(true_loss_estimate))"
   ]
  },
  {
   "cell_type": "markdown",
   "metadata": {},
   "source": [
    "### Now compare train and test errors of perceptron\n",
    "\n",
    "**TO DO (A.Q1) [Answer the following]** <br>\n",
    "What about the difference between the training error and the test error  in terms of fraction of misclassified samples? Explain what you observe. (Notice that with a very small dataset like this one results can change due to randomization, try to run with different random seeds if you get unexpected results)."
   ]
  },
  {
   "cell_type": "code",
   "execution_count": 12,
   "metadata": {},
   "outputs": [
    {
     "data": {
      "image/png": "[encoded data removed]",
      "text/plain": [
       "<Figure size 640x480 with 1 Axes>"
      ]
     },
     "metadata": {},
     "output_type": "display_data"
    }
   ],
   "source": [
    "#tesp per capire se funziona il plot\n",
    "x = np.linspace(0, 10, 100)\n",
    "y = np.sin(x)\n",
    "\n",
    "plt.plot(x, y)\n",
    "plt.title(\"Test plot\")\n",
    "plt.xlabel(\"x\")\n",
    "plt.ylabel(\"sin(x)\")\n",
    "plt.grid(True)\n",
    "plt.show()"
   ]
  },
  {
   "cell_type": "markdown",
   "metadata": {},
   "source": [
    "<div class=\"alert alert-block alert-info\">\n",
    "**ANSWER A.Q1**:<br>\n",
    "answer here\n",
    " </div>"
   ]
  },
  {
   "cell_type": "code",
   "execution_count": 13,
   "metadata": {},
   "outputs": [
    {
     "name": "stdout",
     "output_type": "stream",
     "text": [
      "Iterazioni: 0, errore: 1.0\n",
      "Iterazioni: 20, errore: 0.24884629037983672\n",
      "Iterazioni: 40, errore: 0.2559460418885339\n",
      "Iterazioni: 60, errore: 0.2463613773517927\n",
      "Iterazioni: 80, errore: 0.24742634007809727\n",
      "Iterazioni: 100, errore: 0.24565140220092296\n",
      "Iterazioni: 120, errore: 0.24955626553070642\n",
      "Iterazioni: 140, errore: 0.24600638977635783\n",
      "Iterazioni: 160, errore: 0.24813631522896698\n",
      "Iterazioni: 180, errore: 0.2463613773517927\n",
      "Iterazioni: 200, errore: 0.25133120340788073\n",
      "Iterazioni: 220, errore: 0.2477813276535321\n",
      "Iterazioni: 240, errore: 0.24671636492722754\n",
      "Iterazioni: 260, errore: 0.2470713525026624\n",
      "Iterazioni: 280, errore: 0.24565140220092296\n",
      "Iterazioni: 300, errore: 0.24742634007809727\n",
      "Iterazioni: 320, errore: 0.24671636492722754\n",
      "Iterazioni: 340, errore: 0.2477813276535321\n",
      "Iterazioni: 360, errore: 0.2445864394746184\n",
      "Iterazioni: 380, errore: 0.24387646432374868\n",
      "Iterazioni: 400, errore: 0.24423145189918352\n",
      "Iterazioni: 420, errore: 0.24423145189918352\n",
      "Iterazioni: 440, errore: 0.24352147674831381\n",
      "Iterazioni: 460, errore: 0.24494142705005326\n",
      "Iterazioni: 480, errore: 0.24387646432374868\n",
      "Iterazioni: 500, errore: 0.24742634007809727\n",
      "Iterazioni: 520, errore: 0.24494142705005326\n",
      "Iterazioni: 540, errore: 0.24210152644657437\n",
      "Iterazioni: 560, errore: 0.24494142705005326\n",
      "Iterazioni: 580, errore: 0.23997160099396522\n",
      "Iterazioni: 600, errore: 0.24494142705005326\n",
      "Iterazioni: 620, errore: 0.2452964146254881\n",
      "Iterazioni: 640, errore: 0.24352147674831381\n",
      "Iterazioni: 660, errore: 0.24245651402200924\n",
      "Iterazioni: 680, errore: 0.24565140220092296\n",
      "Iterazioni: 700, errore: 0.24387646432374868\n",
      "Iterazioni: 720, errore: 0.24281150159744408\n",
      "Iterazioni: 740, errore: 0.24387646432374868\n",
      "Iterazioni: 760, errore: 0.24281150159744408\n",
      "Iterazioni: 780, errore: 0.24600638977635783\n",
      "Iterazioni: 800, errore: 0.24600638977635783\n",
      "Iterazioni: 820, errore: 0.24423145189918352\n",
      "Iterazioni: 840, errore: 0.24210152644657437\n",
      "Iterazioni: 860, errore: 0.24139155129570464\n",
      "Iterazioni: 880, errore: 0.2417465388711395\n",
      "Iterazioni: 900, errore: 0.24316648917287895\n",
      "Iterazioni: 920, errore: 0.24494142705005326\n",
      "Iterazioni: 940, errore: 0.2417465388711395\n",
      "Iterazioni: 960, errore: 0.24139155129570464\n",
      "Iterazioni: 980, errore: 0.24352147674831381\n",
      "Iterazioni: 1000, errore: 0.2410365637202698\n",
      "Errors: [1.0, 0.24884629037983672, 0.2559460418885339, 0.2463613773517927, 0.24742634007809727, 0.24565140220092296, 0.24955626553070642, 0.24600638977635783, 0.24813631522896698, 0.2463613773517927, 0.25133120340788073, 0.2477813276535321, 0.24671636492722754, 0.2470713525026624, 0.24565140220092296, 0.24742634007809727, 0.24671636492722754, 0.2477813276535321, 0.2445864394746184, 0.24387646432374868, 0.24423145189918352, 0.24423145189918352, 0.24352147674831381, 0.24494142705005326, 0.24387646432374868, 0.24742634007809727, 0.24494142705005326, 0.24210152644657437, 0.24494142705005326, 0.23997160099396522, 0.24494142705005326, 0.2452964146254881, 0.24352147674831381, 0.24245651402200924, 0.24565140220092296, 0.24387646432374868, 0.24281150159744408, 0.24387646432374868, 0.24281150159744408, 0.24600638977635783, 0.24600638977635783, 0.24423145189918352, 0.24210152644657437, 0.24139155129570464, 0.2417465388711395, 0.24316648917287895, 0.24494142705005326, 0.2417465388711395, 0.24139155129570464, 0.24352147674831381, 0.2410365637202698]\n"
     ]
    },
    {
     "data": {
      "image/png": "[encoded data removed]",
      "text/plain": [
       "<Figure size 640x480 with 1 Axes>"
      ]
     },
     "metadata": {},
     "output_type": "display_data"
    }
   ],
   "source": [
    "# Plot the loss with respect to the number of iterations\n",
    "#plt.figure(figsize=(8,4))\n",
    "\n",
    "num_iters = np.arange(0, 1001, 20)\n",
    "errors = []\n",
    "\n",
    "for num_iter in num_iters:\n",
    "    _, error = perceptron(X_training, Y_training, num_iter)\n",
    "    errors.append(error)\n",
    "    # inizio debugger\n",
    "    print(f\"Iterazioni: {num_iter}, errore: {error}\")\n",
    "\n",
    "print(\"Errors:\", errors)\n",
    "# fine debugger\n",
    "\n",
    "plt.plot(num_iters, errors)\n",
    "plt.xlabel('Number of iterations')\n",
    "plt.ylabel('Training error')\n",
    "plt.grid()\n",
    "plt.show()\n",
    "\n",
    "# NOTE how the training loss decreases as we increase the number of iterations"
   ]
  },
  {
   "cell_type": "markdown",
   "metadata": {},
   "source": [
    "**TO DO (A.4):** Copy the code from the last 2 cells above in the cell below and repeat the training with 3000 iterations. Then print the error in the training set and the estimate of the true loss obtained from the test set."
   ]
  },
  {
   "cell_type": "code",
   "execution_count": 15,
   "metadata": {},
   "outputs": [
    {
     "name": "stdout",
     "output_type": "stream",
     "text": [
      "Training Error of perceptron (3000 iterations): 0.2410365637202698\n",
      "Test Error of perceptron (3000 iterations): 0.25\n"
     ]
    }
   ],
   "source": [
    "w_found, error = perceptron(X_training,Y_training, 3000)  \n",
    "print(\"Training Error of perceptron (3000 iterations): \" + str(error))\n",
    "\n",
    "num_errors, _ = count_errors(w_found, X_test,Y_test) \n",
    "\n",
    "true_loss_estimate = num_errors/len(Y_test)  \n",
    "print(\"Test Error of perceptron (3000 iterations): \" + str(true_loss_estimate))"
   ]
  },
  {
   "cell_type": "markdown",
   "metadata": {},
   "source": [
    "**TO DO (A.Q2) [Answer the following]** <br>\n",
    "What about the difference between the training error and the test error in terms of the fraction of misclassified samples) when running for a larger number of iterations? Explain what you observe and compare with the previous case."
   ]
  },
  {
   "cell_type": "markdown",
   "metadata": {},
   "source": [
    "<div class=\"alert alert-block alert-info\">\n",
    "**ANSWER A.Q2**:<br>\n",
    "Overfitting?</div>"
   ]
  },
  {
   "cell_type": "markdown",
   "metadata": {},
   "source": [
    "# B) Logistic Regression\n",
    "Now we use **logistic regression**, exploiting the implementation in **Scikit-learn**, to predict labels. We will also plot the decision boundaries of logistic regression.\n",
    "\n",
    "We first load the dataset again."
   ]
  },
  {
   "cell_type": "markdown",
   "metadata": {},
   "source": [
    "To define a logistic regression model in Scikit-learn use the instruction\n",
    "\n",
    "$linear\\_model.LogisticRegression(C=1e5)$\n",
    "\n",
    "$C$ is the *regularization* parameter (inverse of $\\lambda$ used in the book). Setting it to a high value is almost\n",
    "as ignoring regularization, so the instruction above corresponds to the logistic regression you have seen in class.)\n",
    "\n",
    "To learn the model you need to use the $fit(...)$ instruction and to predict you need to use the $predict(...)$ function. <br>\n",
    "See the Scikit-learn documentation for how to use it [here](https://scikit-learn.org/stable/modules/generated/sklearn.linear_model.LogisticRegression.html).\n",
    "\n",
    "**TO DO (B.1):** **Define** the **logistic regression** model, then **learn** the model using **the training set** and **predict** on the **test set**. Then **print** the **fraction of samples misclassified** in the training set and in the test set."
   ]
  },
  {
   "cell_type": "code",
   "execution_count": 16,
   "metadata": {},
   "outputs": [
    {
     "name": "stdout",
     "output_type": "stream",
     "text": [
      "Intercept: [-0.05413452]\n",
      "Coefficients: [[-0.05413451 -1.46815048  0.85902829  0.21654952]]\n",
      "Error rate on training set: 0.24423145189918352\n",
      "Error rate on test set: 0.25\n"
     ]
    }
   ],
   "source": [
    "# part on logistic regression for 2 classes\n",
    "from sklearn.linear_model import LogisticRegression\n",
    "\n",
    "logreg = LogisticRegression(C=1e5).fit(X_training, Y_training) # C should be very large to ignore regularization (see above)\n",
    "\n",
    "# learn from training set: hint use fit(...)\n",
    "print(\"Intercept:\" , logreg.intercept_)\n",
    "print(\"Coefficients:\" , logreg.coef_)\n",
    "\n",
    "# predict on training set\n",
    "predicted_training = logreg.predict(X_training)\n",
    "\n",
    "# print the error rate = fraction of misclassified samples\n",
    "error_count_training = (predicted_training != Y_training).sum()\n",
    "error_rate_training = error_count_training/len(Y_training)\n",
    "print(\"Error rate on training set: \"+str(error_rate_training))\n",
    "\n",
    "# predict on test set\n",
    "predicted_test = logreg.predict(X_test)\n",
    "\n",
    "#print the error rate = fraction of misclassified samples\n",
    "error_count_test = (predicted_test != Y_test).sum()\n",
    "error_rate_test = error_count_test/len(Y_test)\n",
    "print(\"Error rate on test set: \" + str(error_rate_test))"
   ]
  },
  {
   "cell_type": "markdown",
   "metadata": {},
   "source": [
    "**TO DO (B.2)** Now **pick two features** and restrict the dataset to include only two features, whose indices are specified in the $idx0$ and $idx1$ variables below. Then split into training and test."
   ]
  },
  {
   "cell_type": "code",
   "execution_count": 17,
   "metadata": {},
   "outputs": [
    {
     "name": "stdout",
     "output_type": "stream",
     "text": [
      "\n",
      " [[48.   60.6  35.  ]\n",
      " [13.   20.45 59.  ]\n",
      " [13.   81.15 37.  ]\n",
      " ...\n",
      " [68.   39.9  19.  ]\n",
      " [64.   20.2  23.  ]\n",
      " [ 2.   35.1  36.  ]]\n",
      "\n",
      " 3757\n"
     ]
    }
   ],
   "source": [
    "print(\"\\n\", X)\n",
    "print(\"\\n\", X.shape[0])"
   ]
  },
  {
   "cell_type": "code",
   "execution_count": 18,
   "metadata": {},
   "outputs": [],
   "source": [
    "feature_names  = [\"Tenure in Months\",\"Monthly Charge\",\"Age\"]\n",
    "\n",
    "# Select the two features to use (ho scelto la prima e la seconda\n",
    "idx0 = X[ : , 0]\n",
    "idx1 = X[ : , 1]\n",
    "\n",
    "X_reduced = np.column_stack((idx0, idx1))\n",
    "\n",
    "#print(X_reduced)\n",
    "\n",
    "# re-initialize the dataset splits, with the reduced sets\n",
    "X_training = X_reduced[0 : m_training, : ]\n",
    "\n",
    "#print(\"\\n\", X_training)\n",
    "#print(\"\\n\", Y_training)\n",
    "#print(\"\\n\", len(Y_training))\n",
    "\n",
    "X_test = X_reduced[m_training : , : ]\n",
    "\n",
    "#print(\"\\n\", len(Y_test))\n",
    "#print(\"\\n\", X_test)\n",
    "#print(\"\\n\", Y_test)"
   ]
  },
  {
   "cell_type": "markdown",
   "metadata": {},
   "source": [
    "Now learn a model using the training data and measure the performances."
   ]
  },
  {
   "cell_type": "code",
   "execution_count": 19,
   "metadata": {},
   "outputs": [
    {
     "name": "stdout",
     "output_type": "stream",
     "text": [
      "Error rate on test set: 0.2521276595744681\n"
     ]
    }
   ],
   "source": [
    "# learning from training data\n",
    "logreg = LogisticRegression(C=1e5).fit(X_training, Y_training) # C should be very large to ignore regularization (see above)\n",
    "# predict on test set\n",
    "predicted_test = logreg.predict(X_test)\n",
    "\n",
    "#print the error rate = fraction of misclassified samples\n",
    "error_count_test = (predicted_test != Y_test).sum()\n",
    "\n",
    "# print the error rate = fraction of misclassified samples\n",
    "error_rate_test = error_count_test/len(Y_test)\n",
    "print(\"Error rate on test set: \" + str(error_rate_test))"
   ]
  },
  {
   "cell_type": "markdown",
   "metadata": {},
   "source": [
    "**TO DO (B.Q1) [Answer the following]** <br>\n",
    "Which features did you select and why? <br>\n",
    "Compare the perfomance of the classifiers trained with every combination of two features with that of the baseline (which used all 3 features)."
   ]
  },
  {
   "cell_type": "markdown",
   "metadata": {},
   "source": [
    "<div class=\"alert alert-block alert-info\">\n",
    "**ANSWER B.Q1**:<br>\n",
    "Prima ho scelto \"Tenure in Months\" e \"Age\" ed ho ottenuto Error rate on test set: 0.2936 poi ho scelto \"Tenure in Months\" e \"Monthly Charge\" ed ho ottenuto Error rate on test set: 0.2521276595744681. Come pensavo l'errore è diminuito poiché l'età nell'ambito che stiamo analizzando ha un interesse sensibilmente meno rilevante rispetto agli altri 2.\n",
    "</div>"
   ]
  }
 ],
 "metadata": {
  "anaconda-cloud": {},
  "kernelspec": {
   "display_name": "Python 3 (ipykernel)",
   "language": "python",
   "name": "python3"
  },
  "language_info": {
   "codemirror_mode": {
    "name": "ipython",
    "version": 3
   },
   "file_extension": ".py",
   "mimetype": "text/x-python",
   "name": "python",
   "nbconvert_exporter": "python",
   "pygments_lexer": "ipython3",
   "version": "3.13.2"
  }
 },
 "nbformat": 4,
 "nbformat_minor": 4
}
