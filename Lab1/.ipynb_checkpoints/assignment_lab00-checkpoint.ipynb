{
 "cells": [
  {
   "cell_type": "markdown",
   "metadata": {},
   "source": [
    "# Esercizio Introduttivo\n",
    "\n",
    "In questo esercizio introduttivo dovrai sviluppare un semplice metodo di regressione lineare con scipy. Puoi trovare tutte le informazioni su come fare la regression con scipy all'url: https://docs.scipy.org/doc/scipy/reference/generated/scipy.stats.linregress.html"
   ]
  },
  {
   "cell_type": "markdown",
   "metadata": {},
   "source": [
    "### Assignment\n",
    "\n",
    "1) Carica il file .csv fornito con i dati delle auto usate\n",
    "\n",
    "2) Utilizza una regressione lineare per stimare i prezzi delle auto in base all'anno, ai chilometri percorsi o alla potenza del motore. Puoi effettuare una semplice regressione 1D da ciascuno dei parametri in modo indipendente (facoltativo: puoi anche provare una regressione 2D o 3D combinando più parametri)\n",
    "\n",
    "3) Per prima cosa esegui la stima utilizzando la funzione linregress di scipy (o in alternativa puoi utilizzare la classe sklearn.linear_model.LinearRegression). NB: controlla la documentazione dei due metodi!! In particolare, fai attenzione al numero di output (in caso usa \"_\" per evitare un output specifico nel return della funzione).\n",
    "\n",
    "4) Dai un'occhiata al coefficiente di correlazione per vedere quale delle 3 caratteristiche funziona meglio\n",
    "\n",
    "5) (facoltativo) Implementa a mano l'algoritmo dei minimi quadrati: dovresti ottenere esattamente la stessa soluzione di linregress!\n",
    "\n",
    "6) Traccia i dati e le rette che rappresentano l'output degli algoritmi linregress e minimi quadrati"
   ]
  },
  {
   "cell_type": "code",
   "execution_count": 20,
   "metadata": {},
   "outputs": [],
   "source": [
    "import matplotlib.pyplot as plt\n",
    "import csv\n",
    "from scipy import stats\n",
    "import numpy as np\n",
    "import sklearn as sl\n",
    "from sklearn import linear_model as lm\n",
    "#aggiunte da me\n",
    "from scipy.stats import linregress"
   ]
  },
  {
   "cell_type": "code",
   "execution_count": 31,
   "metadata": {},
   "outputs": [
    {
     "name": "stdout",
     "output_type": "stream",
     "text": [
      "<class 'numpy.ndarray'>\n",
      "<class 'numpy.str_'>\n",
      "\n",
      "[['km' 'year' 'powerPS' 'avgPrice']\n",
      " ['125000' '2001' '40' '1371.11']\n",
      " ['150000' '2001' '40' '1298.70']\n",
      " ...\n",
      " ['20000' '2015' '260' '49492.38']\n",
      " ['10000' '2015' '300' '38542.69']\n",
      " ['20000' '2015' '300' '39683.32']]\n"
     ]
    }
   ],
   "source": [
    "# Carica i file dati con le informazioni sulle auto usate (prova ad aprirlo con un text editor per vedere il contenuto!)\n",
    "\n",
    "filename = \"data/km_year_power_price.csv\"\n",
    "lines = csv.reader(open(filename, newline=''), delimiter=',')\n",
    "\n",
    "# carico i dati\n",
    "dataset = list(lines)\n",
    "#print(dataset)\n",
    "#print(len(dataset))\n",
    "arrayset = np.array(dataset)\n",
    "#print(len(ar))\n",
    "print(type(arrayset)) #ovviamnete mi stampa numpy.ndarray!!!!\n",
    "print(type(arrayset[1,1])) #voglio vedere che tipo di dati contiene l'array, a mia sorpresa sono stringhe e non float\n",
    "print() #spazio\n",
    "print(arrayset)"
   ]
  },
  {
   "cell_type": "markdown",
   "metadata": {},
   "source": [
    "Usa la regressione lineare per stimare i prezzi delle auto in base all'anno, ai chilometri o alla potenza del motore. È possibile effettuare una semplice regressione 1D da ciascuno dei parametri in modo indipendente\n"
   ]
  },
  {
   "cell_type": "code",
   "execution_count": 32,
   "metadata": {},
   "outputs": [],
   "source": [
    "# Regressione lineare con linregress (stima il prezzo dall'anno)\n",
    "# l'arrayset è del tipo [n,4]\n",
    "# ora creo 4 array [1,n] per linregress, mi ricordo di saltare la prima riga che è di tipo string\n",
    "km = np.array(arrayset[1:,0], dtype=float) #dtype=float converte il dato dell'array che è di tipo string\n",
    "year = np.array(arrayset[1:,1], dtype=float)\n",
    "pw = np.array(arrayset[1:,2], dtype=float)\n",
    "price = np.array(arrayset[1:,-1], dtype=float)\n",
    "#print(km)\n",
    "#print(year)\n",
    "#print(pw)\n",
    "lryear = linregress(year, price)"
   ]
  },
  {
   "cell_type": "code",
   "execution_count": 19,
   "metadata": {},
   "outputs": [],
   "source": [
    "# (Opzionale) regressione lineare con linear_model.LinearRegression() (stima il prezzo dall'anno)\n",
    "# Ricorda che in Python una  matrice mx1 è diversa da un array 1D -> usa reshape\n",
    "\n",
    "# your code....."
   ]
  },
  {
   "cell_type": "code",
   "execution_count": null,
   "metadata": {
    "scrolled": true
   },
   "outputs": [],
   "source": [
    "# (Opzionale) implementa la regressione lineare coi minimi quadrati \"a mano\" senza usare le funzioni di Python\n",
    "# Dovresti ottenere lo stesso risultato di linregress !\n",
    "\n",
    "# your code....."
   ]
  },
  {
   "cell_type": "code",
   "execution_count": null,
   "metadata": {},
   "outputs": [],
   "source": [
    "# Plotta i dati e le linee che rappresentano l'output degli algoritmi linregress e dei minimi quadrati\n"
   ]
  },
  {
   "cell_type": "code",
   "execution_count": null,
   "metadata": {},
   "outputs": [],
   "source": [
    "# Regressione lineare con linregress (stima il prezzo dalla potenza)\n",
    "\n",
    "# your code....."
   ]
  },
  {
   "cell_type": "code",
   "execution_count": null,
   "metadata": {},
   "outputs": [],
   "source": [
    "# regressione lineare con linregress (stima il prezzo dai chilometri)\n",
    "\n",
    "# your code..."
   ]
  },
  {
   "cell_type": "code",
   "execution_count": null,
   "metadata": {},
   "outputs": [],
   "source": [
    "# Dai un'occhiata ai coefficienti di correlazione per vedere quale delle 3 caratteristiche funziona meglio\n",
    "\n",
    "# your code......"
   ]
  },
  {
   "cell_type": "code",
   "execution_count": null,
   "metadata": {},
   "outputs": [],
   "source": [
    "# (Opzionale) regressione lineare 2D con linear model (ad es. stima il prezzo da anno e potenza)\n",
    "\n",
    "\n",
    "# your code......\n"
   ]
  }
 ],
 "metadata": {
  "kernelspec": {
   "display_name": "Python 3 (ipykernel)",
   "language": "python",
   "name": "python3"
  },
  "language_info": {
   "codemirror_mode": {
    "name": "ipython",
    "version": 3
   },
   "file_extension": ".py",
   "mimetype": "text/x-python",
   "name": "python",
   "nbconvert_exporter": "python",
   "pygments_lexer": "ipython3",
   "version": "3.13.2"
  }
 },
 "nbformat": 4,
 "nbformat_minor": 4
}
